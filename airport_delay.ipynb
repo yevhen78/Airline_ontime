{
 "cells": [
  {
   "cell_type": "markdown",
   "metadata": {},
   "source": [
    "# Airline on-time regressor"
   ]
  },
  {
   "cell_type": "code",
   "execution_count": 82,
   "metadata": {
    "collapsed": true
   },
   "outputs": [],
   "source": [
    "import numpy\n",
    "import pandas\n",
    "import math\n",
    "import os\n",
    "import random\n",
    "import time\n"
   ]
  },
  {
   "cell_type": "markdown",
   "metadata": {},
   "source": [
    "Read files into data frame."
   ]
  },
  {
   "cell_type": "code",
   "execution_count": 83,
   "metadata": {
    "collapsed": false
   },
   "outputs": [
    {
     "name": "stdout",
     "output_type": "stream",
     "text": [
      "['airports.dat', '459805012_T_ONTIME.csv', 'airport_delay.ipynb', '.ipynb_checkpoints', 'airport_delay-Copy1.ipynb']\n"
     ]
    }
   ],
   "source": [
    "path = os.getcwd()\n",
    "files = os.listdir(path)\n",
    "print files"
   ]
  },
  {
   "cell_type": "code",
   "execution_count": 84,
   "metadata": {
    "collapsed": true
   },
   "outputs": [],
   "source": [
    "data_file = files[1]\n",
    "airports = files[0]\n",
    "data = pandas.read_csv(data_file)\n"
   ]
  },
  {
   "cell_type": "markdown",
   "metadata": {},
   "source": [
    "Inspect the data frame. I chose to download features that can be easily inferred from a ticket to choose for prediction. The others are for possible responces or to help clean and select the data for training.  "
   ]
  },
  {
   "cell_type": "code",
   "execution_count": 85,
   "metadata": {
    "collapsed": false
   },
   "outputs": [
    {
     "name": "stdout",
     "output_type": "stream",
     "text": [
      "original data length: 469968\n"
     ]
    },
    {
     "data": {
      "text/html": [
       "<div style=\"max-height:1000px;max-width:1500px;overflow:auto;\">\n",
       "<table border=\"1\" class=\"dataframe\">\n",
       "  <thead>\n",
       "    <tr style=\"text-align: right;\">\n",
       "      <th></th>\n",
       "      <th>MONTH</th>\n",
       "      <th>DAY_OF_MONTH</th>\n",
       "      <th>DAY_OF_WEEK</th>\n",
       "      <th>UNIQUE_CARRIER</th>\n",
       "      <th>AIRLINE_ID</th>\n",
       "      <th>FL_NUM</th>\n",
       "      <th>ORIGIN</th>\n",
       "      <th>DEST</th>\n",
       "      <th>CRS_DEP_TIME</th>\n",
       "      <th>CRS_ARR_TIME</th>\n",
       "      <th>ARR_DELAY</th>\n",
       "      <th>ARR_DEL15</th>\n",
       "      <th>CANCELLED</th>\n",
       "      <th>DIVERTED</th>\n",
       "      <th>DISTANCE</th>\n",
       "      <th>CARRIER_DELAY</th>\n",
       "      <th>Unnamed: 16</th>\n",
       "    </tr>\n",
       "  </thead>\n",
       "  <tbody>\n",
       "    <tr>\n",
       "      <th>0</th>\n",
       "      <td>1</td>\n",
       "      <td>1</td>\n",
       "      <td>4</td>\n",
       "      <td>AA</td>\n",
       "      <td>19805</td>\n",
       "      <td>1</td>\n",
       "      <td>JFK</td>\n",
       "      <td>LAX</td>\n",
       "      <td>900</td>\n",
       "      <td>1230</td>\n",
       "      <td>7</td>\n",
       "      <td>0</td>\n",
       "      <td>0</td>\n",
       "      <td>0</td>\n",
       "      <td>2475</td>\n",
       "      <td>NaN</td>\n",
       "      <td>NaN</td>\n",
       "    </tr>\n",
       "    <tr>\n",
       "      <th>1</th>\n",
       "      <td>1</td>\n",
       "      <td>2</td>\n",
       "      <td>5</td>\n",
       "      <td>AA</td>\n",
       "      <td>19805</td>\n",
       "      <td>1</td>\n",
       "      <td>JFK</td>\n",
       "      <td>LAX</td>\n",
       "      <td>900</td>\n",
       "      <td>1230</td>\n",
       "      <td>-19</td>\n",
       "      <td>0</td>\n",
       "      <td>0</td>\n",
       "      <td>0</td>\n",
       "      <td>2475</td>\n",
       "      <td>NaN</td>\n",
       "      <td>NaN</td>\n",
       "    </tr>\n",
       "    <tr>\n",
       "      <th>2</th>\n",
       "      <td>1</td>\n",
       "      <td>3</td>\n",
       "      <td>6</td>\n",
       "      <td>AA</td>\n",
       "      <td>19805</td>\n",
       "      <td>1</td>\n",
       "      <td>JFK</td>\n",
       "      <td>LAX</td>\n",
       "      <td>900</td>\n",
       "      <td>1230</td>\n",
       "      <td>-39</td>\n",
       "      <td>0</td>\n",
       "      <td>0</td>\n",
       "      <td>0</td>\n",
       "      <td>2475</td>\n",
       "      <td>NaN</td>\n",
       "      <td>NaN</td>\n",
       "    </tr>\n",
       "  </tbody>\n",
       "</table>\n",
       "</div>"
      ],
      "text/plain": [
       "   MONTH  DAY_OF_MONTH  DAY_OF_WEEK UNIQUE_CARRIER  AIRLINE_ID  FL_NUM ORIGIN  \\\n",
       "0      1             1            4             AA       19805       1    JFK   \n",
       "1      1             2            5             AA       19805       1    JFK   \n",
       "2      1             3            6             AA       19805       1    JFK   \n",
       "\n",
       "  DEST  CRS_DEP_TIME  CRS_ARR_TIME  ARR_DELAY  ARR_DEL15  CANCELLED  DIVERTED  \\\n",
       "0  LAX           900          1230          7          0          0         0   \n",
       "1  LAX           900          1230        -19          0          0         0   \n",
       "2  LAX           900          1230        -39          0          0         0   \n",
       "\n",
       "   DISTANCE  CARRIER_DELAY  Unnamed: 16  \n",
       "0      2475            NaN          NaN  \n",
       "1      2475            NaN          NaN  \n",
       "2      2475            NaN          NaN  "
      ]
     },
     "execution_count": 85,
     "metadata": {},
     "output_type": "execute_result"
    }
   ],
   "source": [
    "print 'original data length:',len(data)\n",
    "data.head(3)"
   ]
  },
  {
   "cell_type": "markdown",
   "metadata": {},
   "source": [
    "Remove records of cancelled or diverted flights"
   ]
  },
  {
   "cell_type": "code",
   "execution_count": 86,
   "metadata": {
    "collapsed": false
   },
   "outputs": [
    {
     "name": "stdout",
     "output_type": "stream",
     "text": [
      "data length without canceled and diverted flights: 457013\n"
     ]
    }
   ],
   "source": [
    "data = data[data['CANCELLED']==0]\n",
    "data = data[data['DIVERTED']==0]\n",
    "print 'data length without canceled and diverted flights:',len(data)"
   ]
  },
  {
   "cell_type": "markdown",
   "metadata": {},
   "source": [
    "Drop column 16 and now constant \"CANCELLED\", and \"DIVERTED\""
   ]
  },
  {
   "cell_type": "code",
   "execution_count": 87,
   "metadata": {
    "collapsed": false
   },
   "outputs": [
    {
     "data": {
      "text/html": [
       "<div style=\"max-height:1000px;max-width:1500px;overflow:auto;\">\n",
       "<table border=\"1\" class=\"dataframe\">\n",
       "  <thead>\n",
       "    <tr style=\"text-align: right;\">\n",
       "      <th></th>\n",
       "      <th>MONTH</th>\n",
       "      <th>DAY_OF_MONTH</th>\n",
       "      <th>DAY_OF_WEEK</th>\n",
       "      <th>UNIQUE_CARRIER</th>\n",
       "      <th>AIRLINE_ID</th>\n",
       "      <th>FL_NUM</th>\n",
       "      <th>ORIGIN</th>\n",
       "      <th>DEST</th>\n",
       "      <th>CRS_DEP_TIME</th>\n",
       "      <th>CRS_ARR_TIME</th>\n",
       "      <th>ARR_DELAY</th>\n",
       "      <th>ARR_DEL15</th>\n",
       "      <th>DISTANCE</th>\n",
       "      <th>CARRIER_DELAY</th>\n",
       "    </tr>\n",
       "  </thead>\n",
       "  <tbody>\n",
       "    <tr>\n",
       "      <th>0</th>\n",
       "      <td>1</td>\n",
       "      <td>1</td>\n",
       "      <td>4</td>\n",
       "      <td>AA</td>\n",
       "      <td>19805</td>\n",
       "      <td>1</td>\n",
       "      <td>JFK</td>\n",
       "      <td>LAX</td>\n",
       "      <td>900</td>\n",
       "      <td>1230</td>\n",
       "      <td>7</td>\n",
       "      <td>0</td>\n",
       "      <td>2475</td>\n",
       "      <td>NaN</td>\n",
       "    </tr>\n",
       "    <tr>\n",
       "      <th>1</th>\n",
       "      <td>1</td>\n",
       "      <td>2</td>\n",
       "      <td>5</td>\n",
       "      <td>AA</td>\n",
       "      <td>19805</td>\n",
       "      <td>1</td>\n",
       "      <td>JFK</td>\n",
       "      <td>LAX</td>\n",
       "      <td>900</td>\n",
       "      <td>1230</td>\n",
       "      <td>-19</td>\n",
       "      <td>0</td>\n",
       "      <td>2475</td>\n",
       "      <td>NaN</td>\n",
       "    </tr>\n",
       "  </tbody>\n",
       "</table>\n",
       "</div>"
      ],
      "text/plain": [
       "   MONTH  DAY_OF_MONTH  DAY_OF_WEEK UNIQUE_CARRIER  AIRLINE_ID  FL_NUM ORIGIN  \\\n",
       "0      1             1            4             AA       19805       1    JFK   \n",
       "1      1             2            5             AA       19805       1    JFK   \n",
       "\n",
       "  DEST  CRS_DEP_TIME  CRS_ARR_TIME  ARR_DELAY  ARR_DEL15  DISTANCE  \\\n",
       "0  LAX           900          1230          7          0      2475   \n",
       "1  LAX           900          1230        -19          0      2475   \n",
       "\n",
       "   CARRIER_DELAY  \n",
       "0            NaN  \n",
       "1            NaN  "
      ]
     },
     "execution_count": 87,
     "metadata": {},
     "output_type": "execute_result"
    }
   ],
   "source": [
    "cols_to_drop = data.columns[[12,13,16]]\n",
    "data.drop(cols_to_drop,axis = 1,inplace = True)\n",
    "data.head(2)"
   ]
  },
  {
   "cell_type": "markdown",
   "metadata": {},
   "source": [
    "Split the data into train, validation, and test set"
   ]
  },
  {
   "cell_type": "code",
   "execution_count": 88,
   "metadata": {
    "collapsed": false
   },
   "outputs": [],
   "source": [
    "n = len(data)\n",
    "n1 = len(data)*6/10\n",
    "n2 = len(data)*8/10\n",
    "s= random.sample(xrange(n), n)\n",
    "train_ind = s[0:n1]\n",
    "validation_ind = s[n1:n2]\n",
    "test_ind = s[n2:]\n",
    "\n",
    "train = data.iloc[train_ind]\n",
    "validate = data.iloc[validation_ind]\n",
    "test = data.iloc[test_ind]\n"
   ]
  },
  {
   "cell_type": "markdown",
   "metadata": {},
   "source": [
    "Try to convert airport codes into numeric long/lat coordinats using downloaded table airports.dat from openflights.com: https://raw.githubusercontent.com/jpatokal/openflights/master/data/airports.dat."
   ]
  },
  {
   "cell_type": "code",
   "execution_count": 89,
   "metadata": {
    "collapsed": false
   },
   "outputs": [
    {
     "data": {
      "text/html": [
       "<div style=\"max-height:1000px;max-width:1500px;overflow:auto;\">\n",
       "<table border=\"1\" class=\"dataframe\">\n",
       "  <thead>\n",
       "    <tr style=\"text-align: right;\">\n",
       "      <th></th>\n",
       "      <th>0</th>\n",
       "      <th>1</th>\n",
       "      <th>2</th>\n",
       "      <th>3</th>\n",
       "      <th>4</th>\n",
       "      <th>5</th>\n",
       "      <th>6</th>\n",
       "      <th>7</th>\n",
       "      <th>8</th>\n",
       "      <th>9</th>\n",
       "      <th>10</th>\n",
       "      <th>11</th>\n",
       "    </tr>\n",
       "  </thead>\n",
       "  <tbody>\n",
       "    <tr>\n",
       "      <th>0</th>\n",
       "      <td>1</td>\n",
       "      <td>Goroka</td>\n",
       "      <td>Goroka</td>\n",
       "      <td>Papua New Guinea</td>\n",
       "      <td>GKA</td>\n",
       "      <td>AYGA</td>\n",
       "      <td>-6.081689</td>\n",
       "      <td>145.391881</td>\n",
       "      <td>5282</td>\n",
       "      <td>10</td>\n",
       "      <td>U</td>\n",
       "      <td>Pacific/Port_Moresby</td>\n",
       "    </tr>\n",
       "    <tr>\n",
       "      <th>1</th>\n",
       "      <td>2</td>\n",
       "      <td>Madang</td>\n",
       "      <td>Madang</td>\n",
       "      <td>Papua New Guinea</td>\n",
       "      <td>MAG</td>\n",
       "      <td>AYMD</td>\n",
       "      <td>-5.207083</td>\n",
       "      <td>145.788700</td>\n",
       "      <td>20</td>\n",
       "      <td>10</td>\n",
       "      <td>U</td>\n",
       "      <td>Pacific/Port_Moresby</td>\n",
       "    </tr>\n",
       "    <tr>\n",
       "      <th>2</th>\n",
       "      <td>3</td>\n",
       "      <td>Mount Hagen</td>\n",
       "      <td>Mount Hagen</td>\n",
       "      <td>Papua New Guinea</td>\n",
       "      <td>HGU</td>\n",
       "      <td>AYMH</td>\n",
       "      <td>-5.826789</td>\n",
       "      <td>144.295861</td>\n",
       "      <td>5388</td>\n",
       "      <td>10</td>\n",
       "      <td>U</td>\n",
       "      <td>Pacific/Port_Moresby</td>\n",
       "    </tr>\n",
       "  </tbody>\n",
       "</table>\n",
       "</div>"
      ],
      "text/plain": [
       "   0            1            2                 3    4     5         6   \\\n",
       "0   1       Goroka       Goroka  Papua New Guinea  GKA  AYGA -6.081689   \n",
       "1   2       Madang       Madang  Papua New Guinea  MAG  AYMD -5.207083   \n",
       "2   3  Mount Hagen  Mount Hagen  Papua New Guinea  HGU  AYMH -5.826789   \n",
       "\n",
       "           7     8   9  10                    11  \n",
       "0  145.391881  5282  10  U  Pacific/Port_Moresby  \n",
       "1  145.788700    20  10  U  Pacific/Port_Moresby  \n",
       "2  144.295861  5388  10  U  Pacific/Port_Moresby  "
      ]
     },
     "execution_count": 89,
     "metadata": {},
     "output_type": "execute_result"
    }
   ],
   "source": [
    "airport_codes = pandas.read_csv(airports,header = None)\n",
    "airport_codes.head(3)\n"
   ]
  },
  {
   "cell_type": "markdown",
   "metadata": {},
   "source": [
    "See how many values categorical variables contain "
   ]
  },
  {
   "cell_type": "code",
   "execution_count": 90,
   "metadata": {
    "collapsed": false
   },
   "outputs": [
    {
     "name": "stdout",
     "output_type": "stream",
     "text": [
      "14\n",
      "14\n",
      "14\n",
      "6334\n",
      "[(21171L, 'VX'), (20409L, 'B6'), (19393L, 'WN'), (19805L, 'AA'), (20366L, 'EV'), (20304L, 'OO'), (20436L, 'F9'), (19977L, 'UA'), (20398L, 'MQ'), (19690L, 'HA'), (20416L, 'NK'), (19790L, 'DL'), (20355L, 'US'), (19930L, 'AS')]\n"
     ]
    }
   ],
   "source": [
    "print len(data.groupby('AIRLINE_ID'))\n",
    "print len(data.groupby('UNIQUE_CARRIER'))\n",
    "print len(data.groupby(['AIRLINE_ID','UNIQUE_CARRIER']))\n",
    "print len(data.groupby('FL_NUM'))\n",
    "print data.groupby(['AIRLINE_ID','UNIQUE_CARRIER']).groups.keys()"
   ]
  },
  {
   "cell_type": "markdown",
   "metadata": {},
   "source": [
    "AIRLINE_ID and UNIQUE_CARRIER  are one to one and onto, so will use just one category UNIQUE_CARRIER. The FL_NUM has too many categories and seem to be redundant, as route and time should specify it uniquely. Month, and day may use as numeric, time as well. With those FL_DATE seem to be redundant."
   ]
  },
  {
   "cell_type": "code",
   "execution_count": 91,
   "metadata": {
    "collapsed": false
   },
   "outputs": [],
   "source": [
    "carriers = data.groupby('UNIQUE_CARRIER').groups.keys()"
   ]
  },
  {
   "cell_type": "markdown",
   "metadata": {},
   "source": [
    "Function for processing that will transform UNIQUE_CARRIER into numeric columns, remove rest of categorical columns\n",
    "and substitute ORIGIN and DEST codes with their coordinats."
   ]
  },
  {
   "cell_type": "code",
   "execution_count": 92,
   "metadata": {
    "collapsed": false
   },
   "outputs": [],
   "source": [
    "def process(df):\n",
    "    global airport_codes\n",
    "    global carriers\n",
    "    \n",
    "    for c in carriers:\n",
    "        df.loc[:,c] = (df['UNIQUE_CARRIER']==c)+0\n",
    "        \n",
    "    df = df.merge(airport_codes[[4,6,7]],left_on = 'ORIGIN',\n",
    "                             right_on = 4,how = 'left')\n",
    "    if len(df[df['ORIGIN'] != df[4]])>0 :\n",
    "        print 'Unidentified ORIGIN airport'\n",
    "    df.rename(columns={6: 'Origin_lat', 7: 'Origin_long'}, inplace=True)\n",
    "    df.drop([4],axis = 1,inplace = True)\n",
    "    \n",
    "    df = df.merge(airport_codes[[4,6,7]],left_on = 'DEST',\n",
    "                             right_on = 4,how = 'left')\n",
    "    if len(df[df['DEST'] != df[4]])>0 :\n",
    "        print 'Unidentified DEST airport'\n",
    "    df.rename(columns={6: 'Dest_lat', 7: 'Dest_long'}, inplace=True)\n",
    "    df.drop([4],axis = 1,inplace = True)\n",
    "    cols_to_drop = df.columns[[3,4,5,6,7,13]]\n",
    "    df.drop(cols_to_drop,axis = 1,inplace = True)\n",
    "    \n",
    "    cols = list(df.columns)\n",
    "    cols.remove('ARR_DELAY')\n",
    "    cols.remove('ARR_DEL15')\n",
    "    cols = cols+['ARR_DELAY','ARR_DEL15']\n",
    "    df = df[cols]\n",
    "        \n",
    "    return df\n",
    "    "
   ]
  },
  {
   "cell_type": "markdown",
   "metadata": {
    "collapsed": false
   },
   "source": [
    "Process data sets and split them into features and responce."
   ]
  },
  {
   "cell_type": "code",
   "execution_count": 93,
   "metadata": {
    "collapsed": false
   },
   "outputs": [],
   "source": [
    "train = process(train)\n",
    "validate = process(validate)\n",
    "test = process(test)\n",
    "\n",
    "train_x = train[train.columns[0:24]]\n",
    "train_y = train[train.columns[24]]\n",
    "validate_x = validate[validate.columns[0:24]]\n",
    "validate_y = validate[validate.columns[24]]\n",
    "test_x = test[test.columns[0:24]]\n",
    "test_y = test[test.columns[24]]"
   ]
  },
  {
   "cell_type": "code",
   "execution_count": 94,
   "metadata": {
    "collapsed": false
   },
   "outputs": [
    {
     "name": "stdout",
     "output_type": "stream",
     "text": [
      "Columns used for training and prediction:\n",
      "MONTH             int64\n",
      "DAY_OF_MONTH      int64\n",
      "DAY_OF_WEEK       int64\n",
      "CRS_DEP_TIME      int64\n",
      "CRS_ARR_TIME      int64\n",
      "DISTANCE        float64\n",
      "AA                int32\n",
      "OO                int32\n",
      "DL                int32\n",
      "HA                int32\n",
      "F9                int32\n",
      "B6                int32\n",
      "US                int32\n",
      "AS                int32\n",
      "NK                int32\n",
      "MQ                int32\n",
      "WN                int32\n",
      "VX                int32\n",
      "EV                int32\n",
      "UA                int32\n",
      "Origin_lat      float64\n",
      "Origin_long     float64\n",
      "Dest_lat        float64\n",
      "Dest_long       float64\n",
      "dtype: object\n"
     ]
    }
   ],
   "source": [
    "print 'Columns used for training and prediction:'\n",
    "print train_x.dtypes"
   ]
  },
  {
   "cell_type": "markdown",
   "metadata": {},
   "source": [
    "Now (after trying some othe models: linear regression, svm,random forest), it seems that GBR, althouth slower, produces better fit. So train using Gradiant Boosting Regressor."
   ]
  },
  {
   "cell_type": "code",
   "execution_count": 95,
   "metadata": {
    "collapsed": false
   },
   "outputs": [
    {
     "name": "stdout",
     "output_type": "stream",
     "text": [
      "Predicting time gbc model 10 0.001 2 :  4.38242912292 , MSE =  1506.20610302\n",
      "Predicting time gbc model 10 0.001 5 :  13.2448580265 , MSE =  1505.19375481\n",
      "Predicting time gbc model 10 0.001 10 :  69.1505608559 , MSE =  1502.89388129\n",
      "Predicting time gbc model 10 0.01 2 :  4.40344285965 , MSE =  1493.43004423\n",
      "Predicting time gbc model 10 0.01 5 :  13.3378608227 , MSE =  1484.47801468\n",
      "Predicting time gbc model 10 0.01 10 :  68.0230691433 , MSE =  1463.94866832\n",
      "Predicting time gbc model 10 0.05 2 :  4.3187110424 , MSE =  1455.19164583\n",
      "Predicting time gbc model 10 0.05 5 :  13.3671009541 , MSE =  1422.46042039\n",
      "Predicting time gbc model 10 0.05 10 :  68.9375660419 , MSE =  1357.33668159\n",
      "Predicting time gbc model 10 0.1 2 :  4.16742801666 , MSE =  1428.32328942\n",
      "Predicting time gbc model 10 0.1 5 :  14.1260919571 , MSE =  1368.59668091\n",
      "Predicting time gbc model 10 0.1 10 :  69.7418630123 , MSE =  1296.65122693\n",
      "Predicting time gbc model 50 0.001 2 :  19.3440830708 , MSE =  1500.27245066\n",
      "Predicting time gbc model 50 0.001 5 :  63.1071331501 , MSE =  1495.51422995\n",
      "Predicting time gbc model 50 0.001 10 :  334.309890985 , MSE =  1484.70084735\n",
      "Predicting time gbc model 50 0.01 2 :  18.4388787746 , MSE =  1455.94902476\n",
      "Predicting time gbc model 50 0.01 5 :  62.942305088 , MSE =  1423.00929261\n",
      "Predicting time gbc model 50 0.01 10 :  333.974710941 , MSE =  1359.08130334\n",
      "Predicting time gbc model 50 0.05 2 :  17.8803770542 , MSE =  1397.18857953\n",
      "Predicting time gbc model 50 0.05 5 :  65.8824279308 , MSE =  1313.94747407\n",
      "Predicting time gbc model 50 0.05 10 :  365.302659988 , MSE =  1233.58395853\n",
      "Predicting time gbc model 50 0.1 2 :  17.0318710804 , MSE =  1373.4625167\n",
      "Predicting time gbc model 50 0.1 5 :  60.054008007 , MSE =  1281.71862369\n",
      "Predicting time gbc model 50 0.1 10 :  335.687022209 , MSE =  1218.95169679\n",
      "Predicting time gbc model 100 0.001 2 :  35.3934791088 , MSE =  1493.48849283\n",
      "Predicting time gbc model 100 0.001 5 :  121.834584951 , MSE =  1484.5918714\n",
      "Predicting time gbc model 100 0.001 10 :  662.185456991 , MSE =  1464.14802556\n",
      "Predicting time gbc model 100 0.01 2 :  34.5023839474 , MSE =  1429.90728519\n",
      "Predicting time gbc model 100 0.01 5 :  125.855580091 , MSE =  1371.83585182\n",
      "Predicting time gbc model 100 0.01 10 :  672.152635098 , MSE =  1298.95283253\n",
      "Predicting time gbc model 100 0.05 2 :  33.0321397781 , MSE =  1374.05103675\n",
      "Predicting time gbc model 100 0.05 5 :  116.525789976 , MSE =  1281.40851909\n",
      "Predicting time gbc model 100 0.05 10 :  670.129770994 , MSE =  1214.81908997\n",
      "Predicting time gbc model 100 0.1 2 :  32.1213219166 , MSE =  1354.66413183\n",
      "Predicting time gbc model 100 0.1 5 :  110.334450006 , MSE =  1255.58782971\n",
      "Predicting time gbc model 100 0.1 10 :  584.643851995 , MSE =  1217.13789486\n",
      "Predicting time gbc model 200 0.001 2 :  70.1948239803 , MSE =  1481.69376456\n",
      "Predicting time gbc model 200 0.001 5 :  239.125267982 , MSE =  1465.61449731\n",
      "Predicting time gbc model 200 0.001 10 :  1305.92508316 , MSE =  1429.74916867\n",
      "Predicting time gbc model 200 0.01 2 :  67.8280389309 , MSE =  1405.01725466\n",
      "Predicting time gbc model 200 0.01 5 :  249.196969986 , MSE =  1326.4098684\n",
      "Predicting time gbc model 200 0.01 10 :  1395.49155593 , MSE =  1243.86728659\n",
      "Predicting time gbc model 200 0.05 2 :  61.6806490421 , MSE =  1356.4696218\n",
      "Predicting time gbc model 200 0.05 5 :  214.303122044 , MSE =  1255.50675296\n",
      "Predicting time gbc model 200 0.05 10 :  1168.13946486 , MSE =  1215.84869238\n",
      "Predicting time gbc model 200 0.1 2 :  60.8385269642 , MSE =  1335.19336347\n",
      "Predicting time gbc model 200 0.1 5 :  208.952396154 , MSE =  1234.68955469\n",
      "Predicting time gbc model 200 0.1 10 :  1107.45497704 , MSE =  1243.65535588\n",
      "Predicting time gbc model 500 0.001 2 :  179.068769932 , MSE =  1456.10636079\n",
      "Predicting time gbc model 500 0.001 5 :  614.633425951 , MSE =  1423.32118716\n",
      "Predicting time gbc model 500 0.001 10 :  3270.85591197 , MSE =  1359.63145398\n",
      "Predicting time gbc model 500 0.01 2 :  157.675563812 , MSE =  1374.89334057\n",
      "Predicting time gbc model 500 0.01 5 :  564.192602158 , MSE =  1282.97672618\n",
      "Predicting time gbc model 500 0.01 10 :  3316.04978514 , MSE =  1212.00906238\n",
      "Predicting time gbc model 500 0.05 2 :  155.106889963 , MSE =  1332.42417831\n",
      "Predicting time gbc model 500 0.05 5 :  519.982146978 , MSE =  1224.32524465\n",
      "Predicting time gbc model 500 0.05 10 :  2701.36123586 , MSE =  1253.01848998\n",
      "Predicting time gbc model 500 0.1 2 :  151.475068092 , MSE =  1309.66484785\n",
      "Predicting time gbc model 500 0.1 5 :  514.28913188 , MSE =  1210.00402948\n",
      "Predicting time gbc model 500 0.1 10 :  2631.69033003 , MSE =  1298.30321288\n",
      "(array([4]), array([3]), array([1])) [ 1210.00402948]\n",
      "Best parameters: \n",
      "n estimators:  500\n",
      "learnin _rate:  0.1\n",
      "maximum depth:  5\n",
      "Retraining on training and validation sets combined\n",
      "Test MSE: 1269.68501828\n",
      "Test RSE: 1576.68041873\n"
     ]
    }
   ],
   "source": [
    "from sklearn.metrics import mean_squared_error\n",
    "from sklearn.ensemble import GradientBoostingRegressor\n",
    "\n",
    "\n",
    "n_est = [10,50,100,200,500]\n",
    "learn_r = [0.001,0.01, 0.05, 0.1]\n",
    "max_d = [2,5,10]\n",
    "\n",
    "\n",
    "\n",
    "val_results = numpy.zeros((5,4,3))\n",
    "\n",
    "for i in [0,1,2,3,4]:\n",
    "    for j in [0,1,2,3]:\n",
    "        for k in [0,1,2]:\n",
    "            mod = GradientBoostingRegressor(n_estimators=n_est[i], learning_rate=learn_r[j],\n",
    "                                max_depth=max_d[k])\n",
    "            start = time.time()\n",
    "            mod.fit(train_x, train_y)\n",
    "            pred_y = mod.predict(validate_x)\n",
    "            val_results[i,j,k] = mean_squared_error(validate_y, pred_y)\n",
    "            end = time.time()\n",
    "            print 'Predicting time gbc model',n_est[i],learn_r[j],max_d[k],': ', end-start, \\\n",
    "            ', MSE = ', val_results[i,j,k] \n",
    "\n",
    "min_ind = numpy.where(val_results == val_results.min())\n",
    "print min_ind, val_results[min_ind]\n",
    "n_est = n_est[min_ind[0][0]]\n",
    "learn_r = learn_r[min_ind[1][0]]\n",
    "max_d = max_d[min_ind[2][0]]\n",
    "print 'Best parameters: '\n",
    "print 'n estimators: ',n_est\n",
    "print 'learnin _rate: ', learn_r\n",
    "print 'maximum depth: ',max_d\n",
    "\n",
    "print 'Retraining on training and validation sets combined'\n",
    "mod = GradientBoostingRegressor(n_estimators=n_est, learning_rate=learn_r,\n",
    "                                max_depth=max_d)\n",
    "mod.fit(pandas.concat([train_x,validate_x]),pandas.concat([train_y,validate_y]))\n",
    "pred_y = mod.predict(test_x)\n",
    "print 'Test MSE:', mean_squared_error(test_y, pred_y)\n",
    "print 'Test RSE:', mean_squared_error(test_y, numpy.ones(len(pred_y))*test_y.mean())\n",
    "\n"
   ]
  },
  {
   "cell_type": "code",
   "execution_count": null,
   "metadata": {
    "collapsed": true
   },
   "outputs": [],
   "source": []
  }
 ],
 "metadata": {
  "kernelspec": {
   "display_name": "Python 2",
   "language": "python",
   "name": "python2"
  },
  "language_info": {
   "codemirror_mode": {
    "name": "ipython",
    "version": 2
   },
   "file_extension": ".py",
   "mimetype": "text/x-python",
   "name": "python",
   "nbconvert_exporter": "python",
   "pygments_lexer": "ipython2",
   "version": "2.7.3"
  }
 },
 "nbformat": 4,
 "nbformat_minor": 0
}
